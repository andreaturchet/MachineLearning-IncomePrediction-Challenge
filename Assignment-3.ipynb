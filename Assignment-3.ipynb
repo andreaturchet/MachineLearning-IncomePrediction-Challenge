{
  "nbformat": 4,
  "nbformat_minor": 0,
  "metadata": {
    "colab": {
      "name": "Assignment.ipynb",
      "provenance": [],
      "collapsed_sections": []
    },
    "kernelspec": {
      "name": "python3",
      "display_name": "Python 3"
    },
    "language_info": {
      "name": "python"
    }
  },
  "cells": [
    {
      "cell_type": "markdown",
      "source": [
        "# Assignment\n",
        "\n",
        "## Dataset\n",
        "[Adult dataset](https://archive.ics.uci.edu/ml/datasets/adult)\n",
        "\n",
        "Training set: 32'561 records\n",
        "\n",
        "Test set: 16'280 records\n",
        "\n",
        "### Goal\n",
        "\n",
        "Predict whether income exceeds $50K/yr based on census data. Also known as \"Census Income\" dataset.\n",
        "\n",
        "### Features (14)\n",
        "\n",
        "Note: features contain missing data!\n",
        "\n",
        "| Name           | Type        |\n",
        "|----------------|-------------|\n",
        "| age            | continuous  |\n",
        "| workclass      | categorical |\n",
        "| fnlwgt         | continuous  |\n",
        "| education      | categorical |\n",
        "| education-num  | continuous  |\n",
        "| marital-status | categorical |\n",
        "| occupation     | categorical |\n",
        "| relationship   | categorical |\n",
        "| race           | categorical |\n",
        "| sex            | categorical |\n",
        "| capital-gain   | continuous  |\n",
        "| capital-loss   | continuous  |\n",
        "| hours-per-week | continuous  |\n",
        "| native-country | categorical |\n",
        "\n",
        "### Target (1)\n",
        "\n",
        "| Name           | Type                                |\n",
        "|----------------|-------------------------------------|\n",
        "| income         | categorical<br>(\"<=50K\" or \">50K\")  |\n",
        "\n",
        "### Evaluation Metrics\n",
        "\n",
        "Accuracy and F1 Score\n",
        "\n",
        "# Deadline\n",
        "\n",
        "Sunday 29/05/2022 at 23:59\n",
        "\n",
        "To submit:\n",
        "- a zip file containing the code for the model (briefly commented) or a link to a Colab notebook (make sure the link is public)\n",
        "- a csv/txt with one line for each test sample, containing the predictions\n",
        "- note that we should be able to run the code and obtain the same predictions present in the csv/txt file\n"
      ],
      "metadata": {
        "id": "LbpQdieHhvbd"
      }
    },
    {
      "cell_type": "markdown",
      "source": [
        "\n",
        "\n",
        "---\n",
        "\n",
        "\n",
        "#Preamble\n",
        "Machine learning is not magic and it only works when a problem which needs to be solved, is represented as accurately as it can be from the real world. One of the most important and vital tasks of Machine learning is cleaning and preparing the data that should be fed to the classifiers for training the model. \n",
        "In this case of study we will analyze a dataset containing various features about the income of the US adults; our goal is to create a predictive model that will be able to output a single decision - i.e. whether the income of given person exceeds 50k per year - based on other information about the individual.\n",
        "\n",
        "\n",
        "---\n",
        "\n"
      ],
      "metadata": {
        "id": "Cq5oaJvSlLcI"
      }
    },
    {
      "cell_type": "markdown",
      "source": [
        "\n",
        "\n",
        "---\n",
        "\n",
        "\n",
        "#Preliminaries\n",
        "Loading all the necessary librabries\n",
        "\n",
        "\n",
        "---\n",
        "\n"
      ],
      "metadata": {
        "id": "0K1Cmelznoo8"
      }
    },
    {
      "cell_type": "code",
      "source": [
        "import pandas as pd\n",
        "import numpy as np\n",
        "import matplotlib.pyplot as plt\n",
        "from matplotlib import rcParams\n",
        "import seaborn as sns\n",
        "from sklearn.preprocessing import StandardScaler\n",
        "from sklearn.model_selection import train_test_split\n",
        "from sklearn.linear_model import LogisticRegression\n",
        "from sklearn.svm import SVC, LinearSVC\n",
        "from sklearn.metrics import f1_score\n",
        "from scipy.stats import pointbiserialr, spearmanr"
      ],
      "metadata": {
        "id": "Z5J_N33Mnvyt"
      },
      "execution_count": null,
      "outputs": []
    },
    {
      "cell_type": "markdown",
      "source": [
        "\n",
        "\n",
        "---\n",
        "\n",
        "\n",
        "# Data Loading\n",
        "\n",
        "\n",
        "---\n",
        "\n"
      ],
      "metadata": {
        "id": "yhOvmw_Ck1Dm"
      }
    },
    {
      "cell_type": "code",
      "source": [
        "# Data loading\n",
        "!wget https://archive.ics.uci.edu/ml/machine-learning-databases/adult/adult.data\n",
        "!wget https://archive.ics.uci.edu/ml/machine-learning-databases/adult/adult.test\n",
        "\n",
        "column_names=[\n",
        "    \"age\",\n",
        "    \"workclass\",\n",
        "    \"fnlwgt\",\n",
        "    \"education\",\n",
        "    \"education-num\",\n",
        "    \"marital-status\",\n",
        "    \"occupation\",\n",
        "    \"relationship\",\n",
        "    \"race\",\n",
        "    \"sex\",\n",
        "    \"capital-gain\",\n",
        "    \"capital-loss\",\n",
        "    \"hours-per-week\",\n",
        "    \"native-country\",\n",
        "    \"income\"\n",
        "]\n",
        "\n",
        "df_train = pd.read_csv(\"adult.data\", index_col=False, names=column_names)\n",
        "df_test = pd.read_csv(\"adult.test\", index_col=False, skiprows=1, names=column_names)\n",
        "real_predictions = df_test.income\n",
        "real_predictions.to_csv(\"predictions.test.csv\", index=False)"
      ],
      "metadata": {
        "colab": {
          "base_uri": "https://localhost:8080/"
        },
        "id": "Bx6Wv0XQkvRZ",
        "outputId": "cbacbe06-c42f-455d-faf7-0e3948fd137c"
      },
      "execution_count": null,
      "outputs": [
        {
          "output_type": "stream",
          "name": "stdout",
          "text": [
            "--2022-06-02 19:24:15--  https://archive.ics.uci.edu/ml/machine-learning-databases/adult/adult.data\n",
            "Resolving archive.ics.uci.edu (archive.ics.uci.edu)... 128.195.10.252\n",
            "Connecting to archive.ics.uci.edu (archive.ics.uci.edu)|128.195.10.252|:443... connected.\n",
            "HTTP request sent, awaiting response... 200 OK\n",
            "Length: 3974305 (3.8M) [application/x-httpd-php]\n",
            "Saving to: ‘adult.data’\n",
            "\n",
            "adult.data          100%[===================>]   3.79M  6.88MB/s    in 0.6s    \n",
            "\n",
            "2022-06-02 19:24:16 (6.88 MB/s) - ‘adult.data’ saved [3974305/3974305]\n",
            "\n",
            "--2022-06-02 19:24:16--  https://archive.ics.uci.edu/ml/machine-learning-databases/adult/adult.test\n",
            "Resolving archive.ics.uci.edu (archive.ics.uci.edu)... 128.195.10.252\n",
            "Connecting to archive.ics.uci.edu (archive.ics.uci.edu)|128.195.10.252|:443... connected.\n",
            "HTTP request sent, awaiting response... 200 OK\n",
            "Length: 2003153 (1.9M) [application/x-httpd-php]\n",
            "Saving to: ‘adult.test’\n",
            "\n",
            "adult.test          100%[===================>]   1.91M  3.99MB/s    in 0.5s    \n",
            "\n",
            "2022-06-02 19:24:17 (3.99 MB/s) - ‘adult.test’ saved [2003153/2003153]\n",
            "\n"
          ]
        }
      ]
    },
    {
      "cell_type": "markdown",
      "source": [
        "\n",
        "\n",
        "---\n",
        "\n",
        "\n",
        "#Exploratory Data Analysis\n",
        "The first step that we do is to check the information about our data.\n",
        "\n",
        "\n",
        "---\n",
        "\n"
      ],
      "metadata": {
        "id": "Wf8zARfjn5Bj"
      }
    },
    {
      "cell_type": "code",
      "source": [
        "%matplotlib inline\n",
        "rcParams['figure.figsize'] = 12, 12\n",
        "df_train.hist()"
      ],
      "metadata": {
        "colab": {
          "base_uri": "https://localhost:8080/",
          "height": 837
        },
        "id": "GgChc4n5bdY4",
        "outputId": "33525e89-eb9b-475c-c452-cf0079111a25"
      },
      "execution_count": null,
      "outputs": [
        {
          "output_type": "execute_result",
          "data": {
            "text/plain": [
              "array([[<matplotlib.axes._subplots.AxesSubplot object at 0x7f013f7e5f50>,\n",
              "        <matplotlib.axes._subplots.AxesSubplot object at 0x7f013f28a5d0>],\n",
              "       [<matplotlib.axes._subplots.AxesSubplot object at 0x7f013f71ee90>,\n",
              "        <matplotlib.axes._subplots.AxesSubplot object at 0x7f013cb55c50>],\n",
              "       [<matplotlib.axes._subplots.AxesSubplot object at 0x7f013cb6b690>,\n",
              "        <matplotlib.axes._subplots.AxesSubplot object at 0x7f013f1c1e50>]],\n",
              "      dtype=object)"
            ]
          },
          "metadata": {},
          "execution_count": 23
        },
        {
          "output_type": "display_data",
          "data": {
            "text/plain": [
              "<Figure size 864x864 with 6 Axes>"
            ],
            "image/png": "[encoded data removed]"
          },
          "metadata": {
            "needs_background": "light"
          }
        }
      ]
    },
    {
      "cell_type": "markdown",
      "source": [
        "As seen from the histograms there are many situations in which the skewness is high and the plot tends to be asymmetrical, this will then be processed later for all the features in such a way as to normalize the distribution and have a more precise prediction.\n"
      ],
      "metadata": {
        "id": "JTQmV1CN9KwW"
      }
    },
    {
      "cell_type": "code",
      "source": [
        "df_train['income'] = df_train['income'].map({' <=50K':0,' >50K':1})\n",
        "df_trainsmall=df_train[['age', 'fnlwgt', 'education-num', 'capital-gain', 'capital-loss', 'hours-per-week','income']]\n",
        "plt.matshow(df_trainsmall.corr())\n",
        "plt.colorbar()\n",
        "plt.xticks(np.arange(len(df_trainsmall.corr().columns)), df_trainsmall.corr().columns.values, rotation = 45) \n",
        "plt.yticks(np.arange(len(df_trainsmall.corr().columns)), df_trainsmall.corr().columns.values) \n",
        "for (i, j), corr in np.ndenumerate(df_trainsmall.corr()):\n",
        "    plt.text(j, i, '{:0.1f}'.format(corr), ha='center', va='center', color='white', fontsize=14)"
      ],
      "metadata": {
        "id": "Q19zoqrBoGdd",
        "colab": {
          "base_uri": "https://localhost:8080/",
          "height": 301
        },
        "outputId": "7fa835b2-e37c-4c4a-dd46-0ed71778c0e3"
      },
      "execution_count": null,
      "outputs": [
        {
          "output_type": "display_data",
          "data": {
            "text/plain": [
              "<Figure size 288x288 with 2 Axes>"
            ],
            "image/png": "[encoded data removed]"
          },
          "metadata": {
            "needs_background": "light"
          }
        }
      ]
    },
    {
      "cell_type": "markdown",
      "source": [
        "fnlwgt feature is highly asymmetrical and for this reason we have chosen not to give it a weight within the prediction of our model.\n"
      ],
      "metadata": {
        "id": "xsoXTgWmcvU1"
      }
    },
    {
      "cell_type": "markdown",
      "source": [
        "\n",
        "\n",
        "---\n",
        "\n",
        "\n",
        "#Data Engineering\n",
        "Based on our analysis above, we will fill the missing values in our data, and group certain categories logically, to allow our model to learn better.\n",
        "\n",
        "\n",
        "---\n",
        "\n"
      ],
      "metadata": {
        "id": "N_rfpkL1o0aV"
      }
    },
    {
      "cell_type": "code",
      "source": [
        "df_train.drop(['fnlwgt'],axis = 1,inplace = True)\n",
        "df_train['capital-diff']=df_train['capital-gain']-df_train['capital-loss']\n",
        "df_train.drop(['capital-loss'],axis = 1,inplace = True)\n",
        "df_train.drop(['capital-gain'],axis = 1,inplace = True)\n",
        "#df_train.drop(['education'],axis = 1,inplace = True)\n",
        "df_train.drop(['education-num'],axis = 1,inplace = True)\n",
        "\n",
        "df_test.drop(['fnlwgt'],axis = 1,inplace = True)\n",
        "#df_test.drop(['education'],axis = 1,inplace = True)\n",
        "df_test.drop(['education-num'],axis = 1,inplace = True)\n",
        "df_test['capital-diff']=df_test['capital-gain']-df_test['capital-loss']\n",
        "df_test.drop(['capital-loss'],axis = 1,inplace = True)\n",
        "df_test.drop(['capital-gain'],axis = 1,inplace = True)\n",
        "\n",
        "df_test['income'] = df_test['income'].map({' <=50K.':0,' >50K.':1})"
      ],
      "metadata": {
        "id": "NP44Wnj_4jDp"
      },
      "execution_count": null,
      "outputs": []
    },
    {
      "cell_type": "markdown",
      "source": [
        "\n",
        "\n",
        "---\n",
        "\n",
        "\n",
        "#Encoding the data\n",
        "\n",
        "Why we need to encode our data?\n",
        "Essentially because the majority of the classification models need input as ‘int/float’, and do not work on ‘string’ data.\n",
        "\n",
        "\n",
        "---\n",
        "\n"
      ],
      "metadata": {
        "id": "lIf7JLK4xXLD"
      }
    },
    {
      "cell_type": "code",
      "source": [
        "#Weighted One-Hot: estimation of the weight of each categorical variable to the actual possibility of the income can be <=50K \n",
        "categorical = ['workclass','education', 'marital-status', 'occupation', 'relationship','race', 'sex','native-country', 'age', 'hours-per-week', 'capital-diff']\n",
        "for feature in categorical:\n",
        "  for value in np.unique(df_train[[feature]].values):\n",
        "    avg_income = df_train.loc[df_train[feature] == value, 'income'].mean()\n",
        "    df_train[feature].replace([value],[avg_income],inplace=True)\n",
        "    df_test[feature].replace([value],[avg_income],inplace=True)\n",
        "df_test"
      ],
      "metadata": {
        "id": "bW_5jhjYyvky",
        "colab": {
          "base_uri": "https://localhost:8080/",
          "height": 424
        },
        "outputId": "42f5f18e-fedf-4b5d-f889-760a3e7da4da"
      },
      "execution_count": null,
      "outputs": [
        {
          "output_type": "execute_result",
          "data": {
            "text/plain": [
              "            age  workclass  education  marital-status  occupation  \\\n",
              "0      0.063020   0.218673   0.051064        0.045961    0.124875   \n",
              "1      0.340992   0.218673   0.159509        0.446848    0.115694   \n",
              "2      0.137255   0.294792   0.248360        0.446848    0.325116   \n",
              "3      0.388122   0.218673   0.190235        0.446848    0.124875   \n",
              "4      0.000000   0.104031   0.190235        0.045961    0.103635   \n",
              "...         ...        ...        ...             ...         ...   \n",
              "16276  0.340686   0.218673   0.414753        0.104209    0.449034   \n",
              "16277  0.254808   0.104031   0.159509        0.085599    0.103635   \n",
              "16278  0.340992   0.218673   0.414753        0.446848    0.449034   \n",
              "16279  0.388122   0.218673   0.414753        0.104209    0.134483   \n",
              "16280  0.247717   0.557348   0.414753        0.446848    0.484014   \n",
              "\n",
              "       relationship     race       sex  hours-per-week  native-country  \\\n",
              "0          0.013220  0.12388  0.305737        0.213380        0.245835   \n",
              "1          0.448571  0.25586  0.305737        0.452643        0.245835   \n",
              "2          0.448571  0.25586  0.305737        0.213380        0.245835   \n",
              "3          0.448571  0.12388  0.305737        0.213380        0.245835   \n",
              "4          0.013220  0.25586  0.109461        0.072237        0.245835   \n",
              "...             ...      ...       ...             ...             ...   \n",
              "16276      0.103070  0.25586  0.109461        0.195455        0.245835   \n",
              "16277      0.037717  0.12388  0.305737        0.213380        0.245835   \n",
              "16278      0.448571  0.25586  0.305737        0.452643        0.245835   \n",
              "16279      0.013220  0.26564  0.305737        0.213380        0.245835   \n",
              "16280      0.448571  0.25586  0.305737        0.439322        0.245835   \n",
              "\n",
              "       income  capital-diff  \n",
              "0           0      0.185768  \n",
              "1           0      0.185768  \n",
              "2           1      0.185768  \n",
              "3           1      1.000000  \n",
              "4           0      0.185768  \n",
              "...       ...           ...  \n",
              "16276       0      0.185768  \n",
              "16277       0      0.185768  \n",
              "16278       0      0.185768  \n",
              "16279       0      0.000000  \n",
              "16280       1      0.185768  \n",
              "\n",
              "[16281 rows x 12 columns]"
            ],
            "text/html": [
              "\n",
              "  <div id=\"df-e57e036f-8cb8-4ada-8bbc-aa592b2e853e\">\n",
              "    <div class=\"colab-df-container\">\n",
              "      <div>\n",
              "<style scoped>\n",
              "    .dataframe tbody tr th:only-of-type {\n",
              "        vertical-align: middle;\n",
              "    }\n",
              "\n",
              "    .dataframe tbody tr th {\n",
              "        vertical-align: top;\n",
              "    }\n",
              "\n",
              "    .dataframe thead th {\n",
              "        text-align: right;\n",
              "    }\n",
              "</style>\n",
              "<table border=\"1\" class=\"dataframe\">\n",
              "  <thead>\n",
              "    <tr style=\"text-align: right;\">\n",
              "      <th></th>\n",
              "      <th>age</th>\n",
              "      <th>workclass</th>\n",
              "      <th>education</th>\n",
              "      <th>marital-status</th>\n",
              "      <th>occupation</th>\n",
              "      <th>relationship</th>\n",
              "      <th>race</th>\n",
              "      <th>sex</th>\n",
              "      <th>hours-per-week</th>\n",
              "      <th>native-country</th>\n",
              "      <th>income</th>\n",
              "      <th>capital-diff</th>\n",
              "    </tr>\n",
              "  </thead>\n",
              "  <tbody>\n",
              "    <tr>\n",
              "      <th>0</th>\n",
              "      <td>0.063020</td>\n",
              "      <td>0.218673</td>\n",
              "      <td>0.051064</td>\n",
              "      <td>0.045961</td>\n",
              "      <td>0.124875</td>\n",
              "      <td>0.013220</td>\n",
              "      <td>0.12388</td>\n",
              "      <td>0.305737</td>\n",
              "      <td>0.213380</td>\n",
              "      <td>0.245835</td>\n",
              "      <td>0</td>\n",
              "      <td>0.185768</td>\n",
              "    </tr>\n",
              "    <tr>\n",
              "      <th>1</th>\n",
              "      <td>0.340992</td>\n",
              "      <td>0.218673</td>\n",
              "      <td>0.159509</td>\n",
              "      <td>0.446848</td>\n",
              "      <td>0.115694</td>\n",
              "      <td>0.448571</td>\n",
              "      <td>0.25586</td>\n",
              "      <td>0.305737</td>\n",
              "      <td>0.452643</td>\n",
              "      <td>0.245835</td>\n",
              "      <td>0</td>\n",
              "      <td>0.185768</td>\n",
              "    </tr>\n",
              "    <tr>\n",
              "      <th>2</th>\n",
              "      <td>0.137255</td>\n",
              "      <td>0.294792</td>\n",
              "      <td>0.248360</td>\n",
              "      <td>0.446848</td>\n",
              "      <td>0.325116</td>\n",
              "      <td>0.448571</td>\n",
              "      <td>0.25586</td>\n",
              "      <td>0.305737</td>\n",
              "      <td>0.213380</td>\n",
              "      <td>0.245835</td>\n",
              "      <td>1</td>\n",
              "      <td>0.185768</td>\n",
              "    </tr>\n",
              "    <tr>\n",
              "      <th>3</th>\n",
              "      <td>0.388122</td>\n",
              "      <td>0.218673</td>\n",
              "      <td>0.190235</td>\n",
              "      <td>0.446848</td>\n",
              "      <td>0.124875</td>\n",
              "      <td>0.448571</td>\n",
              "      <td>0.12388</td>\n",
              "      <td>0.305737</td>\n",
              "      <td>0.213380</td>\n",
              "      <td>0.245835</td>\n",
              "      <td>1</td>\n",
              "      <td>1.000000</td>\n",
              "    </tr>\n",
              "    <tr>\n",
              "      <th>4</th>\n",
              "      <td>0.000000</td>\n",
              "      <td>0.104031</td>\n",
              "      <td>0.190235</td>\n",
              "      <td>0.045961</td>\n",
              "      <td>0.103635</td>\n",
              "      <td>0.013220</td>\n",
              "      <td>0.25586</td>\n",
              "      <td>0.109461</td>\n",
              "      <td>0.072237</td>\n",
              "      <td>0.245835</td>\n",
              "      <td>0</td>\n",
              "      <td>0.185768</td>\n",
              "    </tr>\n",
              "    <tr>\n",
              "      <th>...</th>\n",
              "      <td>...</td>\n",
              "      <td>...</td>\n",
              "      <td>...</td>\n",
              "      <td>...</td>\n",
              "      <td>...</td>\n",
              "      <td>...</td>\n",
              "      <td>...</td>\n",
              "      <td>...</td>\n",
              "      <td>...</td>\n",
              "      <td>...</td>\n",
              "      <td>...</td>\n",
              "      <td>...</td>\n",
              "    </tr>\n",
              "    <tr>\n",
              "      <th>16276</th>\n",
              "      <td>0.340686</td>\n",
              "      <td>0.218673</td>\n",
              "      <td>0.414753</td>\n",
              "      <td>0.104209</td>\n",
              "      <td>0.449034</td>\n",
              "      <td>0.103070</td>\n",
              "      <td>0.25586</td>\n",
              "      <td>0.109461</td>\n",
              "      <td>0.195455</td>\n",
              "      <td>0.245835</td>\n",
              "      <td>0</td>\n",
              "      <td>0.185768</td>\n",
              "    </tr>\n",
              "    <tr>\n",
              "      <th>16277</th>\n",
              "      <td>0.254808</td>\n",
              "      <td>0.104031</td>\n",
              "      <td>0.159509</td>\n",
              "      <td>0.085599</td>\n",
              "      <td>0.103635</td>\n",
              "      <td>0.037717</td>\n",
              "      <td>0.12388</td>\n",
              "      <td>0.305737</td>\n",
              "      <td>0.213380</td>\n",
              "      <td>0.245835</td>\n",
              "      <td>0</td>\n",
              "      <td>0.185768</td>\n",
              "    </tr>\n",
              "    <tr>\n",
              "      <th>16278</th>\n",
              "      <td>0.340992</td>\n",
              "      <td>0.218673</td>\n",
              "      <td>0.414753</td>\n",
              "      <td>0.446848</td>\n",
              "      <td>0.449034</td>\n",
              "      <td>0.448571</td>\n",
              "      <td>0.25586</td>\n",
              "      <td>0.305737</td>\n",
              "      <td>0.452643</td>\n",
              "      <td>0.245835</td>\n",
              "      <td>0</td>\n",
              "      <td>0.185768</td>\n",
              "    </tr>\n",
              "    <tr>\n",
              "      <th>16279</th>\n",
              "      <td>0.388122</td>\n",
              "      <td>0.218673</td>\n",
              "      <td>0.414753</td>\n",
              "      <td>0.104209</td>\n",
              "      <td>0.134483</td>\n",
              "      <td>0.013220</td>\n",
              "      <td>0.26564</td>\n",
              "      <td>0.305737</td>\n",
              "      <td>0.213380</td>\n",
              "      <td>0.245835</td>\n",
              "      <td>0</td>\n",
              "      <td>0.000000</td>\n",
              "    </tr>\n",
              "    <tr>\n",
              "      <th>16280</th>\n",
              "      <td>0.247717</td>\n",
              "      <td>0.557348</td>\n",
              "      <td>0.414753</td>\n",
              "      <td>0.446848</td>\n",
              "      <td>0.484014</td>\n",
              "      <td>0.448571</td>\n",
              "      <td>0.25586</td>\n",
              "      <td>0.305737</td>\n",
              "      <td>0.439322</td>\n",
              "      <td>0.245835</td>\n",
              "      <td>1</td>\n",
              "      <td>0.185768</td>\n",
              "    </tr>\n",
              "  </tbody>\n",
              "</table>\n",
              "<p>16281 rows × 12 columns</p>\n",
              "</div>\n",
              "      <button class=\"colab-df-convert\" onclick=\"convertToInteractive('df-e57e036f-8cb8-4ada-8bbc-aa592b2e853e')\"\n",
              "              title=\"Convert this dataframe to an interactive table.\"\n",
              "              style=\"display:none;\">\n",
              "        \n",
              "  <svg xmlns=\"http://www.w3.org/2000/svg\" height=\"24px\"viewBox=\"0 0 24 24\"\n",
              "       width=\"24px\">\n",
              "    <path d=\"M0 0h24v24H0V0z\" fill=\"none\"/>\n",
              "    <path d=\"M18.56 5.44l.94 2.06.94-2.06 2.06-.94-2.06-.94-.94-2.06-.94 2.06-2.06.94zm-11 1L8.5 8.5l.94-2.06 2.06-.94-2.06-.94L8.5 2.5l-.94 2.06-2.06.94zm10 10l.94 2.06.94-2.06 2.06-.94-2.06-.94-.94-2.06-.94 2.06-2.06.94z\"/><path d=\"M17.41 7.96l-1.37-1.37c-.4-.4-.92-.59-1.43-.59-.52 0-1.04.2-1.43.59L10.3 9.45l-7.72 7.72c-.78.78-.78 2.05 0 2.83L4 21.41c.39.39.9.59 1.41.59.51 0 1.02-.2 1.41-.59l7.78-7.78 2.81-2.81c.8-.78.8-2.07 0-2.86zM5.41 20L4 18.59l7.72-7.72 1.47 1.35L5.41 20z\"/>\n",
              "  </svg>\n",
              "      </button>\n",
              "      \n",
              "  <style>\n",
              "    .colab-df-container {\n",
              "      display:flex;\n",
              "      flex-wrap:wrap;\n",
              "      gap: 12px;\n",
              "    }\n",
              "\n",
              "    .colab-df-convert {\n",
              "      background-color: #E8F0FE;\n",
              "      border: none;\n",
              "      border-radius: 50%;\n",
              "      cursor: pointer;\n",
              "      display: none;\n",
              "      fill: #1967D2;\n",
              "      height: 32px;\n",
              "      padding: 0 0 0 0;\n",
              "      width: 32px;\n",
              "    }\n",
              "\n",
              "    .colab-df-convert:hover {\n",
              "      background-color: #E2EBFA;\n",
              "      box-shadow: 0px 1px 2px rgba(60, 64, 67, 0.3), 0px 1px 3px 1px rgba(60, 64, 67, 0.15);\n",
              "      fill: #174EA6;\n",
              "    }\n",
              "\n",
              "    [theme=dark] .colab-df-convert {\n",
              "      background-color: #3B4455;\n",
              "      fill: #D2E3FC;\n",
              "    }\n",
              "\n",
              "    [theme=dark] .colab-df-convert:hover {\n",
              "      background-color: #434B5C;\n",
              "      box-shadow: 0px 1px 3px 1px rgba(0, 0, 0, 0.15);\n",
              "      filter: drop-shadow(0px 1px 2px rgba(0, 0, 0, 0.3));\n",
              "      fill: #FFFFFF;\n",
              "    }\n",
              "  </style>\n",
              "\n",
              "      <script>\n",
              "        const buttonEl =\n",
              "          document.querySelector('#df-e57e036f-8cb8-4ada-8bbc-aa592b2e853e button.colab-df-convert');\n",
              "        buttonEl.style.display =\n",
              "          google.colab.kernel.accessAllowed ? 'block' : 'none';\n",
              "\n",
              "        async function convertToInteractive(key) {\n",
              "          const element = document.querySelector('#df-e57e036f-8cb8-4ada-8bbc-aa592b2e853e');\n",
              "          const dataTable =\n",
              "            await google.colab.kernel.invokeFunction('convertToInteractive',\n",
              "                                                     [key], {});\n",
              "          if (!dataTable) return;\n",
              "\n",
              "          const docLinkHtml = 'Like what you see? Visit the ' +\n",
              "            '<a target=\"_blank\" href=https://colab.research.google.com/notebooks/data_table.ipynb>data table notebook</a>'\n",
              "            + ' to learn more about interactive tables.';\n",
              "          element.innerHTML = '';\n",
              "          dataTable['output_type'] = 'display_data';\n",
              "          await google.colab.output.renderOutput(dataTable, element);\n",
              "          const docLink = document.createElement('div');\n",
              "          docLink.innerHTML = docLinkHtml;\n",
              "          element.appendChild(docLink);\n",
              "        }\n",
              "      </script>\n",
              "    </div>\n",
              "  </div>\n",
              "  "
            ]
          },
          "metadata": {},
          "execution_count": 6
        }
      ]
    },
    {
      "cell_type": "markdown",
      "source": [
        "\n",
        "\n",
        "---\n",
        "\n",
        "\n",
        "#Scaling the data\n",
        "Feature scaling is a method used to normalize the range of independent variables or features of data since there are certain columns with very small values and some columns with high values.\n",
        "Feature standardization makes the values of each feature in the data have zero mean and unit variance, this is the main reason why we used StandardScaler.\n",
        "\n",
        "\n",
        "---\n",
        "\n"
      ],
      "metadata": {
        "id": "ZQoudAKDyyfe"
      }
    },
    {
      "cell_type": "code",
      "source": [
        "Y_train = df_train['income']\n",
        "Y_test = df_test['income']\n",
        "scaler = StandardScaler()\n",
        "\n",
        "df_train = pd.DataFrame(scaler.fit_transform(df_train), columns = df_train.columns)\n",
        "df_test = pd.DataFrame(scaler.transform(df_test), columns = df_test.columns)\n",
        "\n",
        "X_train = df_train.drop(['income'], axis=1)\n",
        "X_test = df_test.drop(['income'],axis = 1)"
      ],
      "metadata": {
        "id": "CzmuucC7JE46"
      },
      "execution_count": null,
      "outputs": []
    },
    {
      "cell_type": "code",
      "source": [
        "from sklearn import tree\n",
        "clf = tree.DecisionTreeClassifier()\n",
        "clf = clf.fit(X_train, Y_train)\n",
        "clf.predict(X_test)\n",
        "\n",
        "real_predictions = pd.DataFrame(Y_pred,columns=['income'])\n",
        "real_predictions.to_csv(\"predictions.test.csv\", index=False)\n",
        "\n",
        "print(f\"Metrics comparing '{path_real}' and '{path_predicted}'\")\n",
        "print(f\"Accuracy: {accuracy}\")\n",
        "print(f\"F1: {f1}\")"
      ],
      "metadata": {
        "colab": {
          "base_uri": "https://localhost:8080/",
          "height": 239
        },
        "id": "UDRIZ4so24E8",
        "outputId": "8c46ec8c-e742-47d9-9a88-b0dba3edf841"
      },
      "execution_count": null,
      "outputs": [
        {
          "output_type": "error",
          "ename": "NameError",
          "evalue": "ignored",
          "traceback": [
            "\u001b[0;31m---------------------------------------------------------------------------\u001b[0m",
            "\u001b[0;31mNameError\u001b[0m                                 Traceback (most recent call last)",
            "\u001b[0;32m<ipython-input-9-fea70cc5b16e>\u001b[0m in \u001b[0;36m<module>\u001b[0;34m()\u001b[0m\n\u001b[1;32m      3\u001b[0m \u001b[0mclf\u001b[0m\u001b[0;34m.\u001b[0m\u001b[0mpredict\u001b[0m\u001b[0;34m(\u001b[0m\u001b[0mX_test\u001b[0m\u001b[0;34m)\u001b[0m\u001b[0;34m\u001b[0m\u001b[0;34m\u001b[0m\u001b[0m\n\u001b[1;32m      4\u001b[0m \u001b[0;34m\u001b[0m\u001b[0m\n\u001b[0;32m----> 5\u001b[0;31m \u001b[0mreal_predictions\u001b[0m \u001b[0;34m=\u001b[0m \u001b[0mpd\u001b[0m\u001b[0;34m.\u001b[0m\u001b[0mDataFrame\u001b[0m\u001b[0;34m(\u001b[0m\u001b[0mY_pred\u001b[0m\u001b[0;34m,\u001b[0m\u001b[0mcolumns\u001b[0m\u001b[0;34m=\u001b[0m\u001b[0;34m[\u001b[0m\u001b[0;34m'income'\u001b[0m\u001b[0;34m]\u001b[0m\u001b[0;34m)\u001b[0m\u001b[0;34m\u001b[0m\u001b[0;34m\u001b[0m\u001b[0m\n\u001b[0m\u001b[1;32m      6\u001b[0m \u001b[0mreal_predictions\u001b[0m\u001b[0;34m.\u001b[0m\u001b[0mto_csv\u001b[0m\u001b[0;34m(\u001b[0m\u001b[0;34m\"predictions.test.csv\"\u001b[0m\u001b[0;34m,\u001b[0m \u001b[0mindex\u001b[0m\u001b[0;34m=\u001b[0m\u001b[0;32mFalse\u001b[0m\u001b[0;34m)\u001b[0m\u001b[0;34m\u001b[0m\u001b[0;34m\u001b[0m\u001b[0m\n\u001b[1;32m      7\u001b[0m \u001b[0;34m\u001b[0m\u001b[0m\n",
            "\u001b[0;31mNameError\u001b[0m: name 'Y_pred' is not defined"
          ]
        }
      ]
    },
    {
      "cell_type": "markdown",
      "source": [
        "\n",
        "\n",
        "---\n",
        "\n",
        "\n",
        "#Fitting data into classification models\n",
        "Model fitting is a measure of how well a machine learning model generalizes to similar data to that on which it was trained. A model that is well-fitted produces more accurate outcomes. A model that is overfitted matches the data too closely. A model that is underfitted doesn’t match closely enough.\n",
        "Why is this a foundamental step?\n",
        "Model fitting is the essence of machine learning. If a model doesn’t fit data correctly, the outcomes it produces will not be accurate enough to be useful for practical decision-making. A properly fitted model has hyperparameters that capture the complex relationships between known variables and the target variable, allowing it to find relevant insights or make accurate predictions.\n",
        "\n",
        "\n",
        "---\n",
        "\n",
        "\n"
      ],
      "metadata": {
        "id": "k_OSjH68znne"
      }
    },
    {
      "cell_type": "markdown",
      "source": [
        "\n",
        "\n",
        "---\n",
        "\n",
        "\n",
        "#Logistic Regression\n",
        "Logistic Regression is a Machine Learning algorithm which is used for the classification problems, it is a predictive analysis algorithm and based on the concept of probability; it uses a cost function that can be defined as the ‘Sigmoid function’ or also known as the ‘logistic function’ instead of a linear function.\n",
        "\n",
        "\n",
        "---\n",
        "\n"
      ],
      "metadata": {
        "id": "h6UuK03PuduW"
      }
    },
    {
      "cell_type": "code",
      "source": [
        "logreg = LogisticRegression()\n",
        "logreg.fit(X_train, Y_train)\n",
        "\n",
        "Y_pred = logreg.predict(X_test)\n",
        "\n",
        "acc_log = round(logreg.score(X_train, Y_train), 4)\n",
        "print(\"Accuracy: \" , acc_log)\n",
        "real_predictions = pd.DataFrame(Y_pred,columns=['income'])\n",
        "real_predictions.to_csv(\"predictions.test.csv\", index=False)"
      ],
      "metadata": {
        "colab": {
          "base_uri": "https://localhost:8080/"
        },
        "id": "BImqzBdiN77j",
        "outputId": "ecb41c01-bf32-47d0-cb2a-6add4be28f87"
      },
      "execution_count": null,
      "outputs": [
        {
          "output_type": "stream",
          "name": "stdout",
          "text": [
            "Accuracy:  0.8692\n"
          ]
        }
      ]
    },
    {
      "cell_type": "markdown",
      "source": [
        "\n",
        "\n",
        "---\n",
        "\n",
        "\n",
        "#Support Vector Machine\n",
        "The machine learning algorithms named support vector machine proposed by Vapnik consist of two important steps. Firstly, the dot product of the data points in the feature space, called kernel, is computed. Secondly, a hyperplan learning algorithm is applied to the kernel.\n",
        "\n",
        "\n",
        "---\n",
        "\n"
      ],
      "metadata": {
        "id": "pZ8EWfuMpoME"
      }
    },
    {
      "cell_type": "code",
      "source": [
        "#Do not run: f1 will decrease (thought accuracy would rise)\n",
        "svc = SVC()\n",
        "svc.fit(X_train, Y_train)\n",
        "\n",
        "Y_pred = svc.predict(X_test)\n",
        "\n",
        "acc_svc = round(svc.score(X_train, Y_train), 4)\n",
        "print(\"Accuracy: \" , acc_svc)\n",
        "print(\"F1: \", f1_score(Y_test, Y_pred))"
      ],
      "metadata": {
        "id": "ojoxz-QjP67K",
        "colab": {
          "base_uri": "https://localhost:8080/"
        },
        "outputId": "eb6299a0-8904-4352-9a1f-e4deae25c7ba"
      },
      "execution_count": null,
      "outputs": [
        {
          "output_type": "stream",
          "name": "stdout",
          "text": [
            "Accuracy:  0.8722\n",
            "F1:  0.6817496229260936\n"
          ]
        }
      ]
    },
    {
      "cell_type": "markdown",
      "source": [
        "\n",
        "\n",
        "---\n",
        "\n",
        "\n",
        "#Note:\n",
        "For our analysis we mainly use the Logistic Regression Algorythm because with SVC the F1 score will decrease even if accuracy goes up, so we decided that F1 high score is more relevant than the accuracy score.\n",
        "The main reason of this behavior can be found in false negatives; in this case we have an asymmetric DF with 80% 1, and 20% 0. \n",
        "\n",
        "\n",
        "---\n",
        "\n"
      ],
      "metadata": {
        "id": "5pbn3ai-tKef"
      }
    },
    {
      "cell_type": "code",
      "source": [
        "col_names = df_train.columns\n",
        "\n",
        "param=[]\n",
        "correlation=[]\n",
        "\n",
        "for c in col_names:\n",
        "    #Check if binary or continuous\n",
        "    if c != \"income\":\n",
        "        if len(df_train[c].unique()) <= 2:\n",
        "            corr = spearmanr(df_train['income'],df_train[c])[0]\n",
        "        else:\n",
        "            corr = pointbiserialr(df_train['income'],df_train[c])[0]\n",
        "        param.append(c)\n",
        "        correlation.append(corr)\n",
        "\n",
        "#Create dataframe for visualization\n",
        "param_df=pd.DataFrame({'correlation':correlation,'parameter':param})\n",
        "\n",
        "#Sort by absolute correlation\n",
        "param_df=param_df.sort_values(by=['correlation'], ascending=False)\n",
        "\n",
        "#Set parameter name as index\n",
        "param_df=param_df.set_index('parameter')\n",
        "\n",
        "param_df"
      ],
      "metadata": {
        "colab": {
          "base_uri": "https://localhost:8080/",
          "height": 426
        },
        "id": "UZjwR66yvxWu",
        "outputId": "d92b4a20-8334-4b15-f07c-421f9f68bc1a"
      },
      "execution_count": null,
      "outputs": [
        {
          "output_type": "execute_result",
          "data": {
            "text/plain": [
              "                correlation\n",
              "parameter                  \n",
              "capital-diff       0.503678\n",
              "relationship       0.453585\n",
              "marital-status     0.447404\n",
              "education          0.368838\n",
              "occupation         0.351892\n",
              "age                0.327953\n",
              "hours-per-week     0.285161\n",
              "sex                0.215980\n",
              "workclass          0.179208\n",
              "race               0.100812\n",
              "native-country     0.098705"
            ],
            "text/html": [
              "\n",
              "  <div id=\"df-a68cc462-3575-4004-b612-a89430ae2a53\">\n",
              "    <div class=\"colab-df-container\">\n",
              "      <div>\n",
              "<style scoped>\n",
              "    .dataframe tbody tr th:only-of-type {\n",
              "        vertical-align: middle;\n",
              "    }\n",
              "\n",
              "    .dataframe tbody tr th {\n",
              "        vertical-align: top;\n",
              "    }\n",
              "\n",
              "    .dataframe thead th {\n",
              "        text-align: right;\n",
              "    }\n",
              "</style>\n",
              "<table border=\"1\" class=\"dataframe\">\n",
              "  <thead>\n",
              "    <tr style=\"text-align: right;\">\n",
              "      <th></th>\n",
              "      <th>correlation</th>\n",
              "    </tr>\n",
              "    <tr>\n",
              "      <th>parameter</th>\n",
              "      <th></th>\n",
              "    </tr>\n",
              "  </thead>\n",
              "  <tbody>\n",
              "    <tr>\n",
              "      <th>capital-diff</th>\n",
              "      <td>0.503678</td>\n",
              "    </tr>\n",
              "    <tr>\n",
              "      <th>relationship</th>\n",
              "      <td>0.453585</td>\n",
              "    </tr>\n",
              "    <tr>\n",
              "      <th>marital-status</th>\n",
              "      <td>0.447404</td>\n",
              "    </tr>\n",
              "    <tr>\n",
              "      <th>education</th>\n",
              "      <td>0.368838</td>\n",
              "    </tr>\n",
              "    <tr>\n",
              "      <th>occupation</th>\n",
              "      <td>0.351892</td>\n",
              "    </tr>\n",
              "    <tr>\n",
              "      <th>age</th>\n",
              "      <td>0.327953</td>\n",
              "    </tr>\n",
              "    <tr>\n",
              "      <th>hours-per-week</th>\n",
              "      <td>0.285161</td>\n",
              "    </tr>\n",
              "    <tr>\n",
              "      <th>sex</th>\n",
              "      <td>0.215980</td>\n",
              "    </tr>\n",
              "    <tr>\n",
              "      <th>workclass</th>\n",
              "      <td>0.179208</td>\n",
              "    </tr>\n",
              "    <tr>\n",
              "      <th>race</th>\n",
              "      <td>0.100812</td>\n",
              "    </tr>\n",
              "    <tr>\n",
              "      <th>native-country</th>\n",
              "      <td>0.098705</td>\n",
              "    </tr>\n",
              "  </tbody>\n",
              "</table>\n",
              "</div>\n",
              "      <button class=\"colab-df-convert\" onclick=\"convertToInteractive('df-a68cc462-3575-4004-b612-a89430ae2a53')\"\n",
              "              title=\"Convert this dataframe to an interactive table.\"\n",
              "              style=\"display:none;\">\n",
              "        \n",
              "  <svg xmlns=\"http://www.w3.org/2000/svg\" height=\"24px\"viewBox=\"0 0 24 24\"\n",
              "       width=\"24px\">\n",
              "    <path d=\"M0 0h24v24H0V0z\" fill=\"none\"/>\n",
              "    <path d=\"M18.56 5.44l.94 2.06.94-2.06 2.06-.94-2.06-.94-.94-2.06-.94 2.06-2.06.94zm-11 1L8.5 8.5l.94-2.06 2.06-.94-2.06-.94L8.5 2.5l-.94 2.06-2.06.94zm10 10l.94 2.06.94-2.06 2.06-.94-2.06-.94-.94-2.06-.94 2.06-2.06.94z\"/><path d=\"M17.41 7.96l-1.37-1.37c-.4-.4-.92-.59-1.43-.59-.52 0-1.04.2-1.43.59L10.3 9.45l-7.72 7.72c-.78.78-.78 2.05 0 2.83L4 21.41c.39.39.9.59 1.41.59.51 0 1.02-.2 1.41-.59l7.78-7.78 2.81-2.81c.8-.78.8-2.07 0-2.86zM5.41 20L4 18.59l7.72-7.72 1.47 1.35L5.41 20z\"/>\n",
              "  </svg>\n",
              "      </button>\n",
              "      \n",
              "  <style>\n",
              "    .colab-df-container {\n",
              "      display:flex;\n",
              "      flex-wrap:wrap;\n",
              "      gap: 12px;\n",
              "    }\n",
              "\n",
              "    .colab-df-convert {\n",
              "      background-color: #E8F0FE;\n",
              "      border: none;\n",
              "      border-radius: 50%;\n",
              "      cursor: pointer;\n",
              "      display: none;\n",
              "      fill: #1967D2;\n",
              "      height: 32px;\n",
              "      padding: 0 0 0 0;\n",
              "      width: 32px;\n",
              "    }\n",
              "\n",
              "    .colab-df-convert:hover {\n",
              "      background-color: #E2EBFA;\n",
              "      box-shadow: 0px 1px 2px rgba(60, 64, 67, 0.3), 0px 1px 3px 1px rgba(60, 64, 67, 0.15);\n",
              "      fill: #174EA6;\n",
              "    }\n",
              "\n",
              "    [theme=dark] .colab-df-convert {\n",
              "      background-color: #3B4455;\n",
              "      fill: #D2E3FC;\n",
              "    }\n",
              "\n",
              "    [theme=dark] .colab-df-convert:hover {\n",
              "      background-color: #434B5C;\n",
              "      box-shadow: 0px 1px 3px 1px rgba(0, 0, 0, 0.15);\n",
              "      filter: drop-shadow(0px 1px 2px rgba(0, 0, 0, 0.3));\n",
              "      fill: #FFFFFF;\n",
              "    }\n",
              "  </style>\n",
              "\n",
              "      <script>\n",
              "        const buttonEl =\n",
              "          document.querySelector('#df-a68cc462-3575-4004-b612-a89430ae2a53 button.colab-df-convert');\n",
              "        buttonEl.style.display =\n",
              "          google.colab.kernel.accessAllowed ? 'block' : 'none';\n",
              "\n",
              "        async function convertToInteractive(key) {\n",
              "          const element = document.querySelector('#df-a68cc462-3575-4004-b612-a89430ae2a53');\n",
              "          const dataTable =\n",
              "            await google.colab.kernel.invokeFunction('convertToInteractive',\n",
              "                                                     [key], {});\n",
              "          if (!dataTable) return;\n",
              "\n",
              "          const docLinkHtml = 'Like what you see? Visit the ' +\n",
              "            '<a target=\"_blank\" href=https://colab.research.google.com/notebooks/data_table.ipynb>data table notebook</a>'\n",
              "            + ' to learn more about interactive tables.';\n",
              "          element.innerHTML = '';\n",
              "          dataTable['output_type'] = 'display_data';\n",
              "          await google.colab.output.renderOutput(dataTable, element);\n",
              "          const docLink = document.createElement('div');\n",
              "          docLink.innerHTML = docLinkHtml;\n",
              "          element.appendChild(docLink);\n",
              "        }\n",
              "      </script>\n",
              "    </div>\n",
              "  </div>\n",
              "  "
            ]
          },
          "metadata": {},
          "execution_count": 31
        }
      ]
    },
    {
      "cell_type": "markdown",
      "source": [
        "This table gives an idea of ​​the correlation between the various features and the fact that the income is higher or less than 50K. As you can see, after various changes to the data, correlations have been obtained, which although not very high, are important because they allow us to understand which are the main variables on which the model will concentrate most of the weight in the predictive phase.\n"
      ],
      "metadata": {
        "id": "KdbHiuBhuSYI"
      }
    },
    {
      "cell_type": "markdown",
      "source": [
        "# Compute Metrics"
      ],
      "metadata": {
        "id": "cXJhl2F9mCL3"
      }
    },
    {
      "cell_type": "code",
      "source": [
        "# Compute Metrics\n",
        "\n",
        "from sklearn.metrics import f1_score\n",
        "from sklearn.metrics import accuracy_score\n",
        "\n",
        "def compute_metrics(path_real, path_predicted):\n",
        "\n",
        "    column_names=[\n",
        "        \"age\",\n",
        "        \"workclass\",\n",
        "        \"fnlwgt\",\n",
        "        \"education\",\n",
        "        \"education-num\",\n",
        "        \"marital-status\",\n",
        "        \"occupation\",\n",
        "        \"relationship\",\n",
        "        \"race\",\n",
        "        \"sex\",\n",
        "        \"capital-gain\",\n",
        "        \"capital-loss\",\n",
        "        \"hours-per-week\",\n",
        "        \"native-country\",\n",
        "        \"income\"\n",
        "    ]\n",
        "    \n",
        "    if \"test\" in path_real:\n",
        "        df_real = pd.read_csv(path_real, index_col=False, skiprows=1, names=column_names)\n",
        "    else:\n",
        "        df_real = pd.read_csv(path_real, index_col=False, names=column_names)\n",
        "    \n",
        "    df_pred = pd.read_csv(path_predicted)\n",
        "\n",
        "    y_real = df_real.income.tolist()\n",
        "    y_pred = df_pred.income.tolist()\n",
        "\n",
        "    y_real = [0 if \"<=50K\" in x else 1 for x in y_real]\n",
        "    #y_pred = [0 if \"<=50K\" in x else 1 for x in y_pred]\n",
        "    \n",
        "\n",
        "    accuracy = accuracy_score(y_real, y_pred)\n",
        "    f1 = f1_score(y_real, y_pred)\n",
        "\n",
        "    print(f\"Metrics comparing '{path_real}' and '{path_predicted}'\")\n",
        "    print(f\"Accuracy: {accuracy}\")\n",
        "    print(f\"F1: {f1}\")"
      ],
      "metadata": {
        "id": "Sn05Iqh9mB1Z"
      },
      "execution_count": null,
      "outputs": []
    },
    {
      "cell_type": "code",
      "execution_count": null,
      "metadata": {
        "colab": {
          "base_uri": "https://localhost:8080/"
        },
        "id": "nhZSo_orhsGg",
        "outputId": "73fd97c3-8436-4849-f585-663ab456f6d4"
      },
      "outputs": [
        {
          "output_type": "stream",
          "name": "stdout",
          "text": [
            "Metrics comparing 'adult.test' and 'predictions.test.csv'\n",
            "Accuracy: 0.8692340765309257\n",
            "F1: 0.6853849564060884\n"
          ]
        }
      ],
      "source": [
        "compute_metrics(\"adult.test\", \"predictions.test.csv\")"
      ]
    },
    {
      "cell_type": "markdown",
      "source": [
        "\n",
        "\n",
        "---\n",
        "\n",
        "\n",
        "#Bibliography:\n",
        "(1)https://towardsdatascience.com/introduction-to-logistic-regression-66248243c148<br/>\n",
        "(2)https://citeseerx.ist.psu.edu/viewdoc/download?doi=10.1.1.387.5068&rep=rep1&type=pdf<br/>\n",
        "(3)https://medium.com/analytics-vidhya/machine-learning-application-census-income-prediction-868227debf12</br>\n",
        "(4)https://www.datarobot.com/wiki/fitting/</br>\n",
        "(5)https://www.atoti.io/articles/when-to-perform-a-feature-scaling/\n",
        "\n",
        "\n",
        "---\n",
        "\n"
      ],
      "metadata": {
        "id": "4jq-SXvOw2XR"
      }
    },
    {
      "cell_type": "markdown",
      "source": [
        "\n",
        "\n",
        "---\n",
        "#Autorship:\n",
        "Assignement done by:<br/>\n",
        "Del Chin Riccardo - ID 151930<br/>\n",
        "Robazza Alberto- ID 152365<br/>\n",
        "Turchet Andrea - ID 152998<br/>\n"
      ],
      "metadata": {
        "id": "tgXRXJld82dG"
      }
    }
  ]
}